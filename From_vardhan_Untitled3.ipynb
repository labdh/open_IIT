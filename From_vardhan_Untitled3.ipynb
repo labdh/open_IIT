{
 "cells": [
  {
   "cell_type": "code",
   "execution_count": 5,
   "metadata": {
    "id": "2HmPZw4yWgdt"
   },
   "outputs": [],
   "source": [
    "import re\n",
    "import pandas as pd\n",
    "import numpy as np\n",
    "from sklearn.preprocessing import LabelEncoder\n",
    "from sklearn.model_selection import train_test_split\n",
    "from keras.preprocessing.text import Tokenizer\n",
    "import keras\n",
    "from sklearn.metrics import classification_report,confusion_matrix\n",
    "import nltk\n",
    "import matplotlib.pyplot as plt\n",
    "from sklearn.model_selection import (train_test_split,cross_val_predict,\n",
    "                                     cross_val_score,cross_validate,GridSearchCV,StratifiedKFold\n",
    "                                    )\n",
    "from sklearn import ensemble, linear_model,svm,neighbors,neural_network\n",
    "from sklearn.metrics import (classification_report,confusion_matrix,\n",
    "                             accuracy_score,auc,mean_absolute_error,r2_score,mean_squared_error,\n",
    "                             plot_roc_curve,roc_auc_score,roc_curve)\n",
    "from sklearn.preprocessing import (OneHotEncoder,LabelEncoder,MinMaxScaler,StandardScaler,)\n",
    "from sklearn.feature_selection import SelectKBest, chi2\n",
    "from xgboost import XGBClassifier,XGBRegressor\n",
    "import lightgbm as lgb\n",
    "import warnings\n",
    "warnings.filterwarnings(\"ignore\")"
   ]
  },
  {
   "cell_type": "code",
   "execution_count": 6,
   "metadata": {
    "colab": {
     "base_uri": "https://localhost:8080/"
    },
    "id": "yDBVjH5iWdMy",
    "outputId": "4bcf7e18-da03-4811-b889-1d5c7ef9c816"
   },
   "outputs": [
    {
     "name": "stderr",
     "output_type": "stream",
     "text": [
      "[nltk_data] Downloading package punkt to /root/nltk_data...\n",
      "[nltk_data]   Package punkt is already up-to-date!\n",
      "[nltk_data] Downloading package wordnet to /root/nltk_data...\n",
      "[nltk_data]   Package wordnet is already up-to-date!\n",
      "[nltk_data] Downloading package stopwords to /root/nltk_data...\n",
      "[nltk_data]   Package stopwords is already up-to-date!\n"
     ]
    }
   ],
   "source": [
    "from nltk.stem import PorterStemmer\n",
    "from nltk.stem import SnowballStemmer\n",
    "porter_stemmer = PorterStemmer()\n",
    "snowball_stemmer = SnowballStemmer(language='english')\n",
    "nltk.download('punkt')\n",
    "from nltk.tokenize import word_tokenize\n",
    "nltk.download('wordnet')\n",
    "from nltk.stem import WordNetLemmatizer\n",
    "nltk.download('stopwords')\n",
    "stop_words = {\"a\",\"an\",\"the\"}\n",
    "ps = PorterStemmer()\n",
    "lemmatizer = WordNetLemmatizer()\n",
    "\n",
    "def remove_html_tags(raw_html):\n",
    "  return re.sub(r'<.*?>', '', raw_html)\n",
    "\n",
    "def remove_urls(raw_text):\n",
    "    raw_text = re.sub(r'http\\S+', '', raw_text)\n",
    "    return re.sub(r'www\\S+', '', raw_text)\n",
    "\n",
    "def remove_nonalpha(raw_text):\n",
    "  return re.sub(r'[^a-zA-Z\\s]', '', raw_text)\n",
    "\n",
    "def remove_lines(raw_text):\n",
    "  return re.sub(r'\\n',' ',raw_text)\n",
    "\n",
    "def lemme_stem_stop(raw_text):\n",
    "  words = word_tokenize(raw_text)\n",
    "  final_words=[]\n",
    "  for word in words:\n",
    "    word = word.lower()\n",
    "    if word not in stop_words:\n",
    "      word = snowball_stemmer.stem(word)\n",
    "      final_words.append(word)\n",
    "  return \" \".join(final_words)\n",
    "\n",
    "def pre_processing(raw_text):\n",
    "  return lemme_stem_stop(remove_lines(remove_nonalpha(remove_urls(remove_html_tags(raw_text)))))"
   ]
  },
  {
   "cell_type": "code",
   "execution_count": 7,
   "metadata": {
    "id": "1Tg2w7LJWvQk"
   },
   "outputs": [],
   "source": [
    "def model(rmf,x,y,isval=False):\n",
    "    if not isval:\n",
    "        rmf.fit(x,y)\n",
    "    y_pred=rmf.predict(x)\n",
    "    if isval:\n",
    "        print(\"\\nValidation:\")\n",
    "    else:\n",
    "        print(\"\\nTrain:\")\n",
    "    print(classification_report(y,y_pred))\n",
    "    print()\n",
    "    print(confusion_matrix(y,y_pred))\n",
    "    print(\"-\"*50)\n",
    "    return rmf"
   ]
  },
  {
   "cell_type": "code",
   "execution_count": null,
   "metadata": {
    "id": "pNk22YBNYBsx"
   },
   "outputs": [],
   "source": [
    "text_df = pd.read_csv(\"Final.csv\")\n",
    "text_df"
   ]
  },
  {
   "cell_type": "code",
   "execution_count": null,
   "metadata": {
    "id": "BF7Mj633WpAw"
   },
   "outputs": [],
   "source": [
    "from sklearn.feature_extraction.text import CountVectorizer\n",
    "vectorizer = CountVectorizer() #Change Vectorizer here\n",
    "X = vectorizer.fit_transform(text_df[\"text\"])\n",
    "y = text_df[\"labels\"]\n",
    "\n",
    "X_train, X_test, y_train, y_test = train_test_split(X, y, test_size=0.1, random_state=42,stratify=y)"
   ]
  },
  {
   "cell_type": "code",
   "execution_count": null,
   "metadata": {
    "id": "yFv4lzZoXA9C"
   },
   "outputs": [],
   "source": [
    "rmf=ensemble.RandomForestClassifier() #Change Model here\n",
    "rmf=model(rmf,X_train,y_train)\n",
    "rmf=model(rmf,X_test,y_test,isval=True)"
   ]
  }
 ],
 "metadata": {
  "colab": {
   "provenance": []
  },
  "kernelspec": {
   "display_name": "Python 3 (ipykernel)",
   "language": "python",
   "name": "python3"
  },
  "language_info": {
   "codemirror_mode": {
    "name": "ipython",
    "version": 3
   },
   "file_extension": ".py",
   "mimetype": "text/x-python",
   "name": "python",
   "nbconvert_exporter": "python",
   "pygments_lexer": "ipython3",
   "version": "3.8.10"
  }
 },
 "nbformat": 4,
 "nbformat_minor": 1
}
